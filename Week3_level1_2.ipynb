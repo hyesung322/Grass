{
  "nbformat": 4,
  "nbformat_minor": 0,
  "metadata": {
    "colab": {
      "name": "Week3_level1_2.ipynb",
      "provenance": [],
      "collapsed_sections": [],
      "include_colab_link": true
    },
    "kernelspec": {
      "name": "python3",
      "display_name": "Python 3"
    },
    "language_info": {
      "name": "python"
    }
  },
  "cells": [
    {
      "cell_type": "markdown",
      "metadata": {
        "id": "view-in-github",
        "colab_type": "text"
      },
      "source": [
        "<a href=\"https://colab.research.google.com/github/hyesung322/Grass/blob/main/Week3_level1_2.ipynb\" target=\"_parent\"><img src=\"https://colab.research.google.com/assets/colab-badge.svg\" alt=\"Open In Colab\"/></a>"
      ]
    },
    {
      "cell_type": "markdown",
      "metadata": {
        "id": "NjAp2UPgSxQ9"
      },
      "source": [
        "### **[실습 전 강의 예제 풀어보기]**\n",
        "\n",
        "\n",
        "---\n",
        "\n",
        "\n",
        "**iris dataset**\n",
        "\n",
        "- 붓꽃 데이터. 꽃잎의 각 부분의 너비, 길이 등을 측정한 데이터\n",
        "\n",
        "- 150개의 데이터와 6개의 필드로 구성\n",
        "\n",
        "\n",
        "\n",
        "\n"
      ]
    },
    {
      "cell_type": "code",
      "metadata": {
        "id": "fOrY9NraV1-w",
        "colab": {
          "base_uri": "https://localhost:8080/"
        },
        "outputId": "465fa7fe-b1bd-4c24-e396-4e7adb961cac"
      },
      "source": [
        "import pandas as pd\n",
        "from sklearn.datasets import load_iris #붓꽃데이터 로드\n",
        "iris=load_iris()\n",
        "print(iris['DESCR']) #DESCR로 데이터셋의 정보를 보여줌."
      ],
      "execution_count": null,
      "outputs": [
        {
          "output_type": "stream",
          "name": "stdout",
          "text": [
            ".. _iris_dataset:\n",
            "\n",
            "Iris plants dataset\n",
            "--------------------\n",
            "\n",
            "**Data Set Characteristics:**\n",
            "\n",
            "    :Number of Instances: 150 (50 in each of three classes)\n",
            "    :Number of Attributes: 4 numeric, predictive attributes and the class\n",
            "    :Attribute Information:\n",
            "        - sepal length in cm\n",
            "        - sepal width in cm\n",
            "        - petal length in cm\n",
            "        - petal width in cm\n",
            "        - class:\n",
            "                - Iris-Setosa\n",
            "                - Iris-Versicolour\n",
            "                - Iris-Virginica\n",
            "                \n",
            "    :Summary Statistics:\n",
            "\n",
            "    ============== ==== ==== ======= ===== ====================\n",
            "                    Min  Max   Mean    SD   Class Correlation\n",
            "    ============== ==== ==== ======= ===== ====================\n",
            "    sepal length:   4.3  7.9   5.84   0.83    0.7826\n",
            "    sepal width:    2.0  4.4   3.05   0.43   -0.4194\n",
            "    petal length:   1.0  6.9   3.76   1.76    0.9490  (high!)\n",
            "    petal width:    0.1  2.5   1.20   0.76    0.9565  (high!)\n",
            "    ============== ==== ==== ======= ===== ====================\n",
            "\n",
            "    :Missing Attribute Values: None\n",
            "    :Class Distribution: 33.3% for each of 3 classes.\n",
            "    :Creator: R.A. Fisher\n",
            "    :Donor: Michael Marshall (MARSHALL%PLU@io.arc.nasa.gov)\n",
            "    :Date: July, 1988\n",
            "\n",
            "The famous Iris database, first used by Sir R.A. Fisher. The dataset is taken\n",
            "from Fisher's paper. Note that it's the same as in R, but not as in the UCI\n",
            "Machine Learning Repository, which has two wrong data points.\n",
            "\n",
            "This is perhaps the best known database to be found in the\n",
            "pattern recognition literature.  Fisher's paper is a classic in the field and\n",
            "is referenced frequently to this day.  (See Duda & Hart, for example.)  The\n",
            "data set contains 3 classes of 50 instances each, where each class refers to a\n",
            "type of iris plant.  One class is linearly separable from the other 2; the\n",
            "latter are NOT linearly separable from each other.\n",
            "\n",
            ".. topic:: References\n",
            "\n",
            "   - Fisher, R.A. \"The use of multiple measurements in taxonomic problems\"\n",
            "     Annual Eugenics, 7, Part II, 179-188 (1936); also in \"Contributions to\n",
            "     Mathematical Statistics\" (John Wiley, NY, 1950).\n",
            "   - Duda, R.O., & Hart, P.E. (1973) Pattern Classification and Scene Analysis.\n",
            "     (Q327.D83) John Wiley & Sons.  ISBN 0-471-22361-1.  See page 218.\n",
            "   - Dasarathy, B.V. (1980) \"Nosing Around the Neighborhood: A New System\n",
            "     Structure and Classification Rule for Recognition in Partially Exposed\n",
            "     Environments\".  IEEE Transactions on Pattern Analysis and Machine\n",
            "     Intelligence, Vol. PAMI-2, No. 1, 67-71.\n",
            "   - Gates, G.W. (1972) \"The Reduced Nearest Neighbor Rule\".  IEEE Transactions\n",
            "     on Information Theory, May 1972, 431-433.\n",
            "   - See also: 1988 MLC Proceedings, 54-64.  Cheeseman et al\"s AUTOCLASS II\n",
            "     conceptual clustering system finds 3 classes in the data.\n",
            "   - Many, many more ...\n"
          ]
        }
      ]
    },
    {
      "cell_type": "code",
      "metadata": {
        "id": "FFoQ4OdPWNHs",
        "colab": {
          "base_uri": "https://localhost:8080/"
        },
        "outputId": "f8ac3525-8f77-4bb6-f389-264e713807c0"
      },
      "source": [
        "data=iris['data'] #각 배열 속 구성을 확인할 수 있음\n",
        "data[:10]"
      ],
      "execution_count": null,
      "outputs": [
        {
          "output_type": "execute_result",
          "data": {
            "text/plain": [
              "array([[5.1, 3.5, 1.4, 0.2],\n",
              "       [4.9, 3. , 1.4, 0.2],\n",
              "       [4.7, 3.2, 1.3, 0.2],\n",
              "       [4.6, 3.1, 1.5, 0.2],\n",
              "       [5. , 3.6, 1.4, 0.2],\n",
              "       [5.4, 3.9, 1.7, 0.4],\n",
              "       [4.6, 3.4, 1.4, 0.3],\n",
              "       [5. , 3.4, 1.5, 0.2],\n",
              "       [4.4, 2.9, 1.4, 0.2],\n",
              "       [4.9, 3.1, 1.5, 0.1]])"
            ]
          },
          "metadata": {},
          "execution_count": 64
        }
      ]
    },
    {
      "cell_type": "code",
      "metadata": {
        "id": "1CTb_aaJWn0A",
        "colab": {
          "base_uri": "https://localhost:8080/"
        },
        "outputId": "cd19b2b4-3707-4303-b5d9-a9fa13d5990c"
      },
      "source": [
        "feature_names = iris['feature_names'] #data의 컬럼 이름을 확인할 수 있음\n",
        "feature_names"
      ],
      "execution_count": null,
      "outputs": [
        {
          "output_type": "execute_result",
          "data": {
            "text/plain": [
              "['sepal length (cm)',\n",
              " 'sepal width (cm)',\n",
              " 'petal length (cm)',\n",
              " 'petal width (cm)']"
            ]
          },
          "metadata": {},
          "execution_count": 65
        }
      ]
    },
    {
      "cell_type": "code",
      "metadata": {
        "id": "wEgUPRN3XcS7",
        "colab": {
          "base_uri": "https://localhost:8080/"
        },
        "outputId": "d5b7f785-1c5e-4739-b510-42eb2dc2cd78"
      },
      "source": [
        "target = iris['target']\n",
        "target #클래스가 3개임을 확인할 수 있음"
      ],
      "execution_count": null,
      "outputs": [
        {
          "output_type": "execute_result",
          "data": {
            "text/plain": [
              "array([0, 0, 0, 0, 0, 0, 0, 0, 0, 0, 0, 0, 0, 0, 0, 0, 0, 0, 0, 0, 0, 0,\n",
              "       0, 0, 0, 0, 0, 0, 0, 0, 0, 0, 0, 0, 0, 0, 0, 0, 0, 0, 0, 0, 0, 0,\n",
              "       0, 0, 0, 0, 0, 0, 1, 1, 1, 1, 1, 1, 1, 1, 1, 1, 1, 1, 1, 1, 1, 1,\n",
              "       1, 1, 1, 1, 1, 1, 1, 1, 1, 1, 1, 1, 1, 1, 1, 1, 1, 1, 1, 1, 1, 1,\n",
              "       1, 1, 1, 1, 1, 1, 1, 1, 1, 1, 1, 1, 2, 2, 2, 2, 2, 2, 2, 2, 2, 2,\n",
              "       2, 2, 2, 2, 2, 2, 2, 2, 2, 2, 2, 2, 2, 2, 2, 2, 2, 2, 2, 2, 2, 2,\n",
              "       2, 2, 2, 2, 2, 2, 2, 2, 2, 2, 2, 2, 2, 2, 2, 2, 2, 2])"
            ]
          },
          "metadata": {},
          "execution_count": 66
        }
      ]
    },
    {
      "cell_type": "code",
      "metadata": {
        "id": "Lyv7RKfxX8lG",
        "colab": {
          "base_uri": "https://localhost:8080/"
        },
        "outputId": "e06d98ef-d1fd-4cbd-e31a-d5b649aeb77d"
      },
      "source": [
        "iris['target_names'] #클래스의 이름을 확인할 수 있음."
      ],
      "execution_count": null,
      "outputs": [
        {
          "output_type": "execute_result",
          "data": {
            "text/plain": [
              "array(['setosa', 'versicolor', 'virginica'], dtype='<U10')"
            ]
          },
          "metadata": {},
          "execution_count": 67
        }
      ]
    },
    {
      "cell_type": "code",
      "metadata": {
        "id": "VvvFS4iddKTD",
        "colab": {
          "base_uri": "https://localhost:8080/",
          "height": 203
        },
        "outputId": "bec0d869-45b1-4feb-d631-8291e7d27471"
      },
      "source": [
        "#pandas의 데이터프레임을 이용해 데이터와 컬럼명, 라벨데이터(클래스)를 추가하여 iris 데이터 프레임을 완성한다.\n",
        "df_iris=pd.DataFrame(data,columns=feature_names)  #데이터프레임을 만들건데, column에는 iris 데이터셋의 feature_name이 들어갈거야.\n",
        "df_iris['target']=target #라벨데이터 추가(target컬럼 추가)\n",
        "df_iris.head() #head()메서드를 통해 데이터프레임의 앞 부분의 일부 확인 가능"
      ],
      "execution_count": null,
      "outputs": [
        {
          "output_type": "execute_result",
          "data": {
            "text/html": [
              "<div>\n",
              "<style scoped>\n",
              "    .dataframe tbody tr th:only-of-type {\n",
              "        vertical-align: middle;\n",
              "    }\n",
              "\n",
              "    .dataframe tbody tr th {\n",
              "        vertical-align: top;\n",
              "    }\n",
              "\n",
              "    .dataframe thead th {\n",
              "        text-align: right;\n",
              "    }\n",
              "</style>\n",
              "<table border=\"1\" class=\"dataframe\">\n",
              "  <thead>\n",
              "    <tr style=\"text-align: right;\">\n",
              "      <th></th>\n",
              "      <th>sepal length (cm)</th>\n",
              "      <th>sepal width (cm)</th>\n",
              "      <th>petal length (cm)</th>\n",
              "      <th>petal width (cm)</th>\n",
              "      <th>target</th>\n",
              "    </tr>\n",
              "  </thead>\n",
              "  <tbody>\n",
              "    <tr>\n",
              "      <th>0</th>\n",
              "      <td>5.1</td>\n",
              "      <td>3.5</td>\n",
              "      <td>1.4</td>\n",
              "      <td>0.2</td>\n",
              "      <td>0</td>\n",
              "    </tr>\n",
              "    <tr>\n",
              "      <th>1</th>\n",
              "      <td>4.9</td>\n",
              "      <td>3.0</td>\n",
              "      <td>1.4</td>\n",
              "      <td>0.2</td>\n",
              "      <td>0</td>\n",
              "    </tr>\n",
              "    <tr>\n",
              "      <th>2</th>\n",
              "      <td>4.7</td>\n",
              "      <td>3.2</td>\n",
              "      <td>1.3</td>\n",
              "      <td>0.2</td>\n",
              "      <td>0</td>\n",
              "    </tr>\n",
              "    <tr>\n",
              "      <th>3</th>\n",
              "      <td>4.6</td>\n",
              "      <td>3.1</td>\n",
              "      <td>1.5</td>\n",
              "      <td>0.2</td>\n",
              "      <td>0</td>\n",
              "    </tr>\n",
              "    <tr>\n",
              "      <th>4</th>\n",
              "      <td>5.0</td>\n",
              "      <td>3.6</td>\n",
              "      <td>1.4</td>\n",
              "      <td>0.2</td>\n",
              "      <td>0</td>\n",
              "    </tr>\n",
              "  </tbody>\n",
              "</table>\n",
              "</div>"
            ],
            "text/plain": [
              "   sepal length (cm)  sepal width (cm)  ...  petal width (cm)  target\n",
              "0                5.1               3.5  ...               0.2       0\n",
              "1                4.9               3.0  ...               0.2       0\n",
              "2                4.7               3.2  ...               0.2       0\n",
              "3                4.6               3.1  ...               0.2       0\n",
              "4                5.0               3.6  ...               0.2       0\n",
              "\n",
              "[5 rows x 5 columns]"
            ]
          },
          "metadata": {},
          "execution_count": 68
        }
      ]
    },
    {
      "cell_type": "markdown",
      "metadata": {
        "id": "_FlXowAod_2h"
      },
      "source": [
        "\n",
        "\n",
        "---\n",
        "\n",
        "\n",
        "### **[예제 1] iris 데이터셋을 로지스틱 회귀 모델에 학습시켜, 꽃받침 너비 데이터만으로 가상의 데이터 1000개가 virginica 종일 확률과 아닌 확률 구해보기**\n",
        "\n",
        "\n",
        "---\n",
        "\n"
      ]
    },
    {
      "cell_type": "code",
      "metadata": {
        "id": "XbaDrWOFeONt",
        "colab": {
          "base_uri": "https://localhost:8080/"
        },
        "outputId": "41ac8a25-0e71-4ccd-81b5-071ebf531b2f"
      },
      "source": [
        "from sklearn import datasets\n",
        "iris=datasets.load_iris()\n",
        "\n",
        "#변수 할당\n",
        "x=iris['data'][:,3:] #꽃받침의 너비 변수만 사용\n",
        "y=(iris['target']==2).astype('int') #virginica 종만 사용, virginica면 1로 나타내고 그 외의 종은 0으로 나타냄. / astype메서드를 활용하여 데이터프레임 타입을 int타입으로 변경\n",
        "\n",
        "#로지스틱 회귀 모델 가져와서 학습 시키기\n",
        "from sklearn.linear_model import LogisticRegression\n",
        "log_leg=LogisticRegression() #객체화 시켜서 log_leg에 할당\n",
        "log_leg.fit(x,y) #데이터 학습"
      ],
      "execution_count": null,
      "outputs": [
        {
          "output_type": "execute_result",
          "data": {
            "text/plain": [
              "LogisticRegression(C=1.0, class_weight=None, dual=False, fit_intercept=True,\n",
              "                   intercept_scaling=1, l1_ratio=None, max_iter=100,\n",
              "                   multi_class='auto', n_jobs=None, penalty='l2',\n",
              "                   random_state=None, solver='lbfgs', tol=0.0001, verbose=0,\n",
              "                   warm_start=False)"
            ]
          },
          "metadata": {},
          "execution_count": 2
        }
      ]
    },
    {
      "cell_type": "code",
      "metadata": {
        "id": "EHyB05GhfUS3",
        "colab": {
          "base_uri": "https://localhost:8080/"
        },
        "outputId": "89895f9c-6d30-4fdf-a1a5-e37de6f3292b"
      },
      "source": [
        "#예측해보기\n",
        "import numpy as np\n",
        "import matplotlib.pyplot as plt\n",
        "\n",
        "x_new=np.linspace(0,3,1000).reshape(-1, 1) #0부터 3까지 일정한 간격으로 가상의 데이터 1000개 만들기 / reshape(-1, 정수) 일 경우 열차원의 정수에 따라 빠짐없이 배치됨.\n",
        "y_proba=log_leg.predict_log_proba(x_new) #생성한 가상의 데이터가 virginica일 확률, 아닐 확률 알아보기\n",
        "y_proba"
      ],
      "execution_count": null,
      "outputs": [
        {
          "output_type": "execute_result",
          "data": {
            "text/plain": [
              "array([[-7.50265467e-04, -7.19545857e+00],\n",
              "       [-7.60088181e-04, -7.18245612e+00],\n",
              "       [-7.70039448e-04, -7.16945381e+00],\n",
              "       ...,\n",
              "       [-5.78160947e+00, -3.08851276e-03],\n",
              "       [-5.79458187e+00, -3.04864536e-03],\n",
              "       [-5.80755478e+00, -3.00929180e-03]])"
            ]
          },
          "metadata": {},
          "execution_count": 70
        }
      ]
    },
    {
      "cell_type": "code",
      "metadata": {
        "id": "xKeua0pkgC9d",
        "colab": {
          "base_uri": "https://localhost:8080/",
          "height": 265
        },
        "outputId": "d7c6c1c5-abaa-4641-e1f8-979a97ec6880"
      },
      "source": [
        "#시각화\n",
        "plt.plot(x_new, y_proba[:,1], 'r-', label='iris_virginica')\n",
        "plt.plot(x_new, y_proba[:,0], 'b--', label='iris_non_virginica')\n",
        "plt.legend()\n",
        "plt.show()"
      ],
      "execution_count": null,
      "outputs": [
        {
          "output_type": "display_data",
          "data": {
            "image/png": "[encoded data removed]",
            "text/plain": [
              "<Figure size 432x288 with 1 Axes>"
            ]
          },
          "metadata": {
            "needs_background": "light"
          }
        }
      ]
    },
    {
      "cell_type": "markdown",
      "metadata": {
        "id": "hN6E-XCsjvkM"
      },
      "source": [
        "\n",
        "\n",
        "---\n",
        "\n",
        "### **[예제 확인]**\n",
        " **iris 데이터셋을 로지스틱 회귀 모델에 학습시켜, 0부터 3사이에 일정한 간격으로 생성된 가상의 데이터 1000개가 setosa종일 확률과 아닌 확률 구해보기**\n",
        "\n",
        " 아래 코드를 보고 빈칸을 채워가며 확인해보세요:)\n",
        "\n",
        "---\n",
        "\n"
      ]
    },
    {
      "cell_type": "code",
      "metadata": {
        "id": "Tq-DTYB0kNVU"
      },
      "source": [
        "#iris 데이터셋 불러오기\n",
        "#    주석문을 지우고 코드를 채워주세요.     #\n",
        "iris=datasets.load_iris()"
      ],
      "execution_count": null,
      "outputs": []
    },
    {
      "cell_type": "code",
      "metadata": {
        "id": "bqDrGIe2krF_"
      },
      "source": [
        "#변수 할당\n",
        "x=iris['data'][:,3:] #꽃받침의 너비 변수만 사용\n",
        "#    주석문을 지우고 코드를 채워주세요.     #"
      ],
      "execution_count": null,
      "outputs": []
    },
    {
      "cell_type": "code",
      "metadata": {
        "id": "mYPdsz2jln4w"
      },
      "source": [
        "#로지스틱 회귀 모델 불러와 학습시키기\n",
        "from sklearn.linear_model import LogisticRegression\n",
        "log_leg=LogisticRegression()\n",
        "#    주석문을 지우고 코드를 채워주세요.     #"
      ],
      "execution_count": null,
      "outputs": []
    },
    {
      "cell_type": "code",
      "metadata": {
        "id": "OzRDEFF9lvXg",
        "colab": {
          "base_uri": "https://localhost:8080/",
          "height": 369
        },
        "outputId": "391e179f-b3f8-4cec-e42b-7a962ccb5942"
      },
      "source": [
        "#예측해보기\n",
        "import numpy as np\n",
        "import matplotlib.pyplot as plt\n",
        "\n",
        "x_new_2=np.linspace(0,3,1000).reshape(-1, 1)\n",
        "y_proba_2=log_leg.predict_log_proba(x_new) \n",
        "y_proba_2"
      ],
      "execution_count": null,
      "outputs": [
        {
          "output_type": "error",
          "ename": "NotFittedError",
          "evalue": "ignored",
          "traceback": [
            "\u001b[0;31m---------------------------------------------------------------------------\u001b[0m",
            "\u001b[0;31mNotFittedError\u001b[0m                            Traceback (most recent call last)",
            "\u001b[0;32m<ipython-input-75-f0b3993ecb0a>\u001b[0m in \u001b[0;36m<module>\u001b[0;34m()\u001b[0m\n\u001b[1;32m      4\u001b[0m \u001b[0;34m\u001b[0m\u001b[0m\n\u001b[1;32m      5\u001b[0m \u001b[0mx_new_2\u001b[0m\u001b[0;34m=\u001b[0m\u001b[0mnp\u001b[0m\u001b[0;34m.\u001b[0m\u001b[0mlinspace\u001b[0m\u001b[0;34m(\u001b[0m\u001b[0;36m0\u001b[0m\u001b[0;34m,\u001b[0m\u001b[0;36m3\u001b[0m\u001b[0;34m,\u001b[0m\u001b[0;36m1000\u001b[0m\u001b[0;34m)\u001b[0m\u001b[0;34m.\u001b[0m\u001b[0mreshape\u001b[0m\u001b[0;34m(\u001b[0m\u001b[0;34m-\u001b[0m\u001b[0;36m1\u001b[0m\u001b[0;34m,\u001b[0m \u001b[0;36m1\u001b[0m\u001b[0;34m)\u001b[0m\u001b[0;34m\u001b[0m\u001b[0;34m\u001b[0m\u001b[0m\n\u001b[0;32m----> 6\u001b[0;31m \u001b[0my_proba_2\u001b[0m\u001b[0;34m=\u001b[0m\u001b[0mlog_leg\u001b[0m\u001b[0;34m.\u001b[0m\u001b[0mpredict_log_proba\u001b[0m\u001b[0;34m(\u001b[0m\u001b[0mx_new\u001b[0m\u001b[0;34m)\u001b[0m\u001b[0;34m\u001b[0m\u001b[0;34m\u001b[0m\u001b[0m\n\u001b[0m\u001b[1;32m      7\u001b[0m \u001b[0my_proba_2\u001b[0m\u001b[0;34m\u001b[0m\u001b[0;34m\u001b[0m\u001b[0m\n",
            "\u001b[0;32m/usr/local/lib/python3.7/dist-packages/sklearn/linear_model/_logistic.py\u001b[0m in \u001b[0;36mpredict_log_proba\u001b[0;34m(self, X)\u001b[0m\n\u001b[1;32m   1679\u001b[0m             \u001b[0mmodel\u001b[0m\u001b[0;34m,\u001b[0m \u001b[0mwhere\u001b[0m \u001b[0mclasses\u001b[0m \u001b[0mare\u001b[0m \u001b[0mordered\u001b[0m \u001b[0;32mas\u001b[0m \u001b[0mthey\u001b[0m \u001b[0mare\u001b[0m \u001b[0;32min\u001b[0m\u001b[0;31m \u001b[0m\u001b[0;31m`\u001b[0m\u001b[0;31m`\u001b[0m\u001b[0mself\u001b[0m\u001b[0;34m.\u001b[0m\u001b[0mclasses_\u001b[0m\u001b[0;31m`\u001b[0m\u001b[0;31m`\u001b[0m\u001b[0;34m.\u001b[0m\u001b[0;34m\u001b[0m\u001b[0;34m\u001b[0m\u001b[0m\n\u001b[1;32m   1680\u001b[0m         \"\"\"\n\u001b[0;32m-> 1681\u001b[0;31m         \u001b[0;32mreturn\u001b[0m \u001b[0mnp\u001b[0m\u001b[0;34m.\u001b[0m\u001b[0mlog\u001b[0m\u001b[0;34m(\u001b[0m\u001b[0mself\u001b[0m\u001b[0;34m.\u001b[0m\u001b[0mpredict_proba\u001b[0m\u001b[0;34m(\u001b[0m\u001b[0mX\u001b[0m\u001b[0;34m)\u001b[0m\u001b[0;34m)\u001b[0m\u001b[0;34m\u001b[0m\u001b[0;34m\u001b[0m\u001b[0m\n\u001b[0m\u001b[1;32m   1682\u001b[0m \u001b[0;34m\u001b[0m\u001b[0m\n\u001b[1;32m   1683\u001b[0m \u001b[0;34m\u001b[0m\u001b[0m\n",
            "\u001b[0;32m/usr/local/lib/python3.7/dist-packages/sklearn/linear_model/_logistic.py\u001b[0m in \u001b[0;36mpredict_proba\u001b[0;34m(self, X)\u001b[0m\n\u001b[1;32m   1643\u001b[0m             \u001b[0mwhere\u001b[0m \u001b[0mclasses\u001b[0m \u001b[0mare\u001b[0m \u001b[0mordered\u001b[0m \u001b[0;32mas\u001b[0m \u001b[0mthey\u001b[0m \u001b[0mare\u001b[0m \u001b[0;32min\u001b[0m\u001b[0;31m \u001b[0m\u001b[0;31m`\u001b[0m\u001b[0;31m`\u001b[0m\u001b[0mself\u001b[0m\u001b[0;34m.\u001b[0m\u001b[0mclasses_\u001b[0m\u001b[0;31m`\u001b[0m\u001b[0;31m`\u001b[0m\u001b[0;34m.\u001b[0m\u001b[0;34m\u001b[0m\u001b[0;34m\u001b[0m\u001b[0m\n\u001b[1;32m   1644\u001b[0m         \"\"\"\n\u001b[0;32m-> 1645\u001b[0;31m         \u001b[0mcheck_is_fitted\u001b[0m\u001b[0;34m(\u001b[0m\u001b[0mself\u001b[0m\u001b[0;34m)\u001b[0m\u001b[0;34m\u001b[0m\u001b[0;34m\u001b[0m\u001b[0m\n\u001b[0m\u001b[1;32m   1646\u001b[0m \u001b[0;34m\u001b[0m\u001b[0m\n\u001b[1;32m   1647\u001b[0m         ovr = (self.multi_class in [\"ovr\", \"warn\"] or\n",
            "\u001b[0;32m/usr/local/lib/python3.7/dist-packages/sklearn/utils/validation.py\u001b[0m in \u001b[0;36mcheck_is_fitted\u001b[0;34m(estimator, attributes, msg, all_or_any)\u001b[0m\n\u001b[1;32m    965\u001b[0m \u001b[0;34m\u001b[0m\u001b[0m\n\u001b[1;32m    966\u001b[0m     \u001b[0;32mif\u001b[0m \u001b[0;32mnot\u001b[0m \u001b[0mattrs\u001b[0m\u001b[0;34m:\u001b[0m\u001b[0;34m\u001b[0m\u001b[0;34m\u001b[0m\u001b[0m\n\u001b[0;32m--> 967\u001b[0;31m         \u001b[0;32mraise\u001b[0m \u001b[0mNotFittedError\u001b[0m\u001b[0;34m(\u001b[0m\u001b[0mmsg\u001b[0m \u001b[0;34m%\u001b[0m \u001b[0;34m{\u001b[0m\u001b[0;34m'name'\u001b[0m\u001b[0;34m:\u001b[0m \u001b[0mtype\u001b[0m\u001b[0;34m(\u001b[0m\u001b[0mestimator\u001b[0m\u001b[0;34m)\u001b[0m\u001b[0;34m.\u001b[0m\u001b[0m__name__\u001b[0m\u001b[0;34m}\u001b[0m\u001b[0;34m)\u001b[0m\u001b[0;34m\u001b[0m\u001b[0;34m\u001b[0m\u001b[0m\n\u001b[0m\u001b[1;32m    968\u001b[0m \u001b[0;34m\u001b[0m\u001b[0m\n\u001b[1;32m    969\u001b[0m \u001b[0;34m\u001b[0m\u001b[0m\n",
            "\u001b[0;31mNotFittedError\u001b[0m: This LogisticRegression instance is not fitted yet. Call 'fit' with appropriate arguments before using this estimator."
          ]
        }
      ]
    },
    {
      "cell_type": "code",
      "metadata": {
        "id": "j-6adj0GmQjn"
      },
      "source": [
        "#시각화\n",
        "plt.plot(x_new_2, y_proba_2[:,1], 'r-', label='iris_setosa')\n",
        "plt.plot(x_new_2, y_proba_2[:,0], 'b--', label='iris_non_setosa')\n",
        "plt.legend()\n",
        "plt.show()"
      ],
      "execution_count": null,
      "outputs": []
    },
    {
      "cell_type": "markdown",
      "metadata": {
        "id": "vK0LijTLmjja"
      },
      "source": [
        "\n",
        "---\n",
        "\n",
        "\n",
        "### **[예제 2] iris 데이터셋을 소프트맥스 회귀 모델에 학습시켜 꽃받침 길이, 너비 데이터로 어떤 붓꽃 종인지 가상의 데이터를 만들어서 예측해보기**\n",
        "\n",
        "\n",
        "---"
      ]
    },
    {
      "cell_type": "code",
      "metadata": {
        "id": "AzEzI7Vjm9Oe"
      },
      "source": [
        "from sklearn import datasets\n",
        "iris=datasets.load_iris()\n",
        "\n",
        "#변수 할당\n",
        "x=iris['data'][:,(2,3)] #꽃받침의 길이, 너비 데이터 사용\n",
        "y=iris['target'] #3개 종 모두 사용\n",
        "\n",
        "#소프트맥스 모델 가져와서 학습시키기\n",
        "from sklearn.linear_model import LogisticRegression\n",
        "softmax_reg=LogisticRegression(multi_class='multinomial', solver='lbfgs', C=10, random_state=0) \n",
        "softmax_reg.fit(x,y)"
      ],
      "execution_count": null,
      "outputs": []
    },
    {
      "cell_type": "code",
      "metadata": {
        "id": "cMC8ESKBnlzK"
      },
      "source": [
        "#가상데이터를 만들어서 예측해보기\n",
        "new_iris=[[5,2]] #꽃잎의 길이가 5, 너비가 2인 붓꽃은 어떤 종일까?\n",
        "prediction=softmax_reg.predict(new_iris)[0]\n",
        "label=iris['target_names'].tolist() #타겟이름을 리스트로 변환\n",
        "print(label[prediction])"
      ],
      "execution_count": null,
      "outputs": []
    },
    {
      "cell_type": "markdown",
      "metadata": {
        "id": "m0eoqCsJtkqs"
      },
      "source": [
        "\n",
        "---\n",
        "\n",
        "### **[예제 확인]**\n",
        " **iris 데이터셋을 소프트맥스 모델에 학습시켜 꽃받침의 길이가 3.3이고, 너비가 2.1인 붓꽃은 어떤 붓꽃 종인기 가상의 데이터를 만들어서 예측해보기**\n",
        "\n",
        " 아래 코드를 보고 빈칸을 채워가며 확인해보세요:)\n",
        "\n",
        "---\n",
        "\n"
      ]
    },
    {
      "cell_type": "code",
      "metadata": {
        "id": "UCJWITMrupvg"
      },
      "source": [
        "#데이터셋 import\n",
        "from sklearn import datasets\n",
        "iris=datasets.load_iris()"
      ],
      "execution_count": null,
      "outputs": []
    },
    {
      "cell_type": "code",
      "metadata": {
        "id": "6WnUopPFut38"
      },
      "source": [
        "#변수 할당\n",
        "x= #    주석문을 지우고 코드를 채워주세요.     #\n",
        "y= #    주석문을 지우고 코드를 채워주세요.     #"
      ],
      "execution_count": null,
      "outputs": []
    },
    {
      "cell_type": "code",
      "metadata": {
        "id": "W6NgfkhQuvi-"
      },
      "source": [
        "#소프트맥스 모델 가져와서 학습시키기\n",
        "from sklearn.linear_model import LogisticRegression\n",
        "softmax_reg=LogisticRegression(multi_class='multinomial', solver='lbfgs', C=10, random_state=0) \n",
        "#    주석문을 지우고 코드를 채워주세요.     #"
      ],
      "execution_count": null,
      "outputs": []
    },
    {
      "cell_type": "code",
      "metadata": {
        "id": "gyFbi1a5uylG"
      },
      "source": [
        "#가상데이터를 만들어서 예측해보기\n",
        "#    주석문을 지우고 코드를 채워주세요.     #\n",
        "prediction=softmax_reg.predict(new_iris)[0]\n",
        "label=iris['target_names'].tolist() \n",
        "print(label[prediction])"
      ],
      "execution_count": null,
      "outputs": []
    },
    {
      "cell_type": "markdown",
      "metadata": {
        "id": "0p4m8KXw4K7_"
      },
      "source": [
        "\n",
        "\n",
        "---\n",
        "\n",
        "\n",
        "### **[응용 실습 문제]**\n",
        "**타이타닉 생존자 예측**\n",
        "\n",
        "캐글에서는 타이타닉 데이터를 제공한다. 해당 데이터와 로지스틱 회귀를 활용하여, 승객들의 생존 여부를 예측해보자.\n",
        "\n",
        "\n",
        "\n",
        "---\n",
        "\n",
        "\n",
        "\n",
        "<details>\n",
        "<summary>데이터셋은 어떻게 이루어져 있을까요?</summary>\n",
        "<div markdown=\"1\">       \n",
        "\n",
        " - 해당 데이터에는 승객들 명단과 각각의 특징이 데이터셋으로 주어집니다.\n",
        "\n",
        " - 해당 데이터셋은 train_data와 test_data로 구분되어 있습니다.\n",
        "\n",
        "\n",
        " - **Data Dictionary**\n",
        "\n",
        "   - Survived: 0=사망, 1=생존\n",
        "\n",
        "   - Pclass: 1=1등석, 2=2등석, 3=3등석\n",
        "\n",
        "   - Sex: female=여성, male=남성\n",
        "\n",
        "   - Age: 나이\n",
        "\n",
        "   - SibSp: 동승한 자매/배우자의 수\n",
        "\n",
        "   - Parch: 동승한 부모/자식의 수\n",
        "\n",
        "   - Ticket: 티켓 번호\n",
        "\n",
        "   - Fare: 승객 요금 \n",
        "\n",
        "   - Cabin: 방 호수\n",
        "\n",
        "   - Embarked: 탑승지, C=셰르부르, Q=퀸즈타운, S=사우샘프턴\n",
        "\n",
        "\n",
        "\n"
      ]
    },
    {
      "cell_type": "markdown",
      "metadata": {
        "id": "bCPpogGYhiA0"
      },
      "source": [
        "\n",
        "\n",
        "> 문제 해결 단계를 작성하면 코드 짜기가 수월해요. \n",
        "\n",
        "\n",
        "1. 사용할 라이브러리 import\n",
        "\n",
        "2. 데이터셋 불러오기\n",
        "\n",
        "3. 데이터셋이 어떻게 생겼는지 확인해보기\n",
        "\n",
        "4. 타겟 데이터를 어떤 걸로 할지 결정하기\n",
        "\n",
        "5. 데이터에 null값이 있는지 확인해보기\n",
        "\n",
        "6. 모델을 훈련하는데 불필요한 데이터 삭제하기\n",
        "\n",
        "7. 문자로 저장되어 있는 데이터를 숫자로 변환하기\n",
        "\n",
        "8. 훈련 데이터로 로지스틱 모델 훈련\n",
        "\n",
        "9. 예측 결과 출력\n",
        "\n",
        "10. 가상의 승객 A가 탑승했을 경우 생존여부를 판단\n",
        "\n",
        "(제가 임의로 짜둔 단계입니다. 본인이 생각하는 흐름에 맞추어 단계를 새로 짜보세요!)\n",
        "\n"
      ]
    },
    {
      "cell_type": "code",
      "metadata": {
        "id": "4Am3t4biby5g"
      },
      "source": [
        "#사용할 라이브러리 import\n",
        "\n",
        "import pandas as pd\n",
        "import numpy"
      ],
      "execution_count": 143,
      "outputs": []
    },
    {
      "cell_type": "markdown",
      "metadata": {
        "id": "M4tA7-YqcCu1"
      },
      "source": [
        "<details>\n",
        "\n",
        "---\n",
        "\n",
        "\n",
        "<summary>어떤 라이브러리가 필요할까요?</summary>\n",
        "<div markdown=\"1\">       \n",
        "\n",
        " - 캐글의 csv 파일 가져오기 --> 판다스의 read_csv()메서드 이용 --> import pandas\n",
        "\n",
        " - 데이터프레임과 연산 필요 --> import numpy"
      ]
    },
    {
      "cell_type": "code",
      "metadata": {
        "id": "KoH4LiLkjywH",
        "colab": {
          "base_uri": "https://localhost:8080/",
          "height": 237
        },
        "outputId": "41e143dc-a642-4679-9aa6-6adecffcb96d"
      },
      "source": [
        "#데이터셋 불러오기\n",
        "train_file = pd.read_csv('train.csv')\n",
        "\n",
        "#데이터셋이 어떻게 생겼는지 확인해보기\n",
        "train_file.head()"
      ],
      "execution_count": 144,
      "outputs": [
        {
          "output_type": "execute_result",
          "data": {
            "text/html": [
              "<div>\n",
              "<style scoped>\n",
              "    .dataframe tbody tr th:only-of-type {\n",
              "        vertical-align: middle;\n",
              "    }\n",
              "\n",
              "    .dataframe tbody tr th {\n",
              "        vertical-align: top;\n",
              "    }\n",
              "\n",
              "    .dataframe thead th {\n",
              "        text-align: right;\n",
              "    }\n",
              "</style>\n",
              "<table border=\"1\" class=\"dataframe\">\n",
              "  <thead>\n",
              "    <tr style=\"text-align: right;\">\n",
              "      <th></th>\n",
              "      <th>PassengerId</th>\n",
              "      <th>Survived</th>\n",
              "      <th>Pclass</th>\n",
              "      <th>Name</th>\n",
              "      <th>Sex</th>\n",
              "      <th>Age</th>\n",
              "      <th>SibSp</th>\n",
              "      <th>Parch</th>\n",
              "      <th>Ticket</th>\n",
              "      <th>Fare</th>\n",
              "      <th>Cabin</th>\n",
              "      <th>Embarked</th>\n",
              "    </tr>\n",
              "  </thead>\n",
              "  <tbody>\n",
              "    <tr>\n",
              "      <th>0</th>\n",
              "      <td>1</td>\n",
              "      <td>0</td>\n",
              "      <td>3</td>\n",
              "      <td>Braund, Mr. Owen Harris</td>\n",
              "      <td>male</td>\n",
              "      <td>22.0</td>\n",
              "      <td>1</td>\n",
              "      <td>0</td>\n",
              "      <td>A/5 21171</td>\n",
              "      <td>7.2500</td>\n",
              "      <td>NaN</td>\n",
              "      <td>S</td>\n",
              "    </tr>\n",
              "    <tr>\n",
              "      <th>1</th>\n",
              "      <td>2</td>\n",
              "      <td>1</td>\n",
              "      <td>1</td>\n",
              "      <td>Cumings, Mrs. John Bradley (Florence Briggs Th...</td>\n",
              "      <td>female</td>\n",
              "      <td>38.0</td>\n",
              "      <td>1</td>\n",
              "      <td>0</td>\n",
              "      <td>PC 17599</td>\n",
              "      <td>71.2833</td>\n",
              "      <td>C85</td>\n",
              "      <td>C</td>\n",
              "    </tr>\n",
              "    <tr>\n",
              "      <th>2</th>\n",
              "      <td>3</td>\n",
              "      <td>1</td>\n",
              "      <td>3</td>\n",
              "      <td>Heikkinen, Miss. Laina</td>\n",
              "      <td>female</td>\n",
              "      <td>26.0</td>\n",
              "      <td>0</td>\n",
              "      <td>0</td>\n",
              "      <td>STON/O2. 3101282</td>\n",
              "      <td>7.9250</td>\n",
              "      <td>NaN</td>\n",
              "      <td>S</td>\n",
              "    </tr>\n",
              "    <tr>\n",
              "      <th>3</th>\n",
              "      <td>4</td>\n",
              "      <td>1</td>\n",
              "      <td>1</td>\n",
              "      <td>Futrelle, Mrs. Jacques Heath (Lily May Peel)</td>\n",
              "      <td>female</td>\n",
              "      <td>35.0</td>\n",
              "      <td>1</td>\n",
              "      <td>0</td>\n",
              "      <td>113803</td>\n",
              "      <td>53.1000</td>\n",
              "      <td>C123</td>\n",
              "      <td>S</td>\n",
              "    </tr>\n",
              "    <tr>\n",
              "      <th>4</th>\n",
              "      <td>5</td>\n",
              "      <td>0</td>\n",
              "      <td>3</td>\n",
              "      <td>Allen, Mr. William Henry</td>\n",
              "      <td>male</td>\n",
              "      <td>35.0</td>\n",
              "      <td>0</td>\n",
              "      <td>0</td>\n",
              "      <td>373450</td>\n",
              "      <td>8.0500</td>\n",
              "      <td>NaN</td>\n",
              "      <td>S</td>\n",
              "    </tr>\n",
              "  </tbody>\n",
              "</table>\n",
              "</div>"
            ],
            "text/plain": [
              "   PassengerId  Survived  Pclass  ...     Fare Cabin  Embarked\n",
              "0            1         0       3  ...   7.2500   NaN         S\n",
              "1            2         1       1  ...  71.2833   C85         C\n",
              "2            3         1       3  ...   7.9250   NaN         S\n",
              "3            4         1       1  ...  53.1000  C123         S\n",
              "4            5         0       3  ...   8.0500   NaN         S\n",
              "\n",
              "[5 rows x 12 columns]"
            ]
          },
          "metadata": {},
          "execution_count": 144
        }
      ]
    },
    {
      "cell_type": "markdown",
      "metadata": {
        "id": "z87BUp7aJo8e"
      },
      "source": [
        "<details>\n",
        "\n",
        "---\n",
        "\n",
        "\n",
        "<summary>데이터셋을 불러오고, 어떤 데이터가 있는지 어떻게 확인할까요?</summary>\n",
        "<div markdown=\"1\">       \n",
        "\n",
        " - csv파일로 되어 있는 데이터셋을 읽어오기 위해서 다양한 코드를 활용할 수 있음.\n",
        " \n",
        " --> 판다스의 pandas.read_csv()를 사용하면 csv파일을 깔끔하게 가져올 수 있음.\n",
        "\n",
        " - data.head(n)를 사용하면 앞 n개의 데이터를 보여줌."
      ]
    },
    {
      "cell_type": "code",
      "metadata": {
        "id": "nTq_mBk3JoGN",
        "colab": {
          "base_uri": "https://localhost:8080/"
        },
        "outputId": "556d5a4a-6d2e-4b4b-952e-211feec47111"
      },
      "source": [
        "#데이터에 null 값이 있는지 확인하기\n",
        "train_file.isnull().sum()\n",
        "\n",
        "#null값을 어떤 식으로 처리할지 고민해보기"
      ],
      "execution_count": 145,
      "outputs": [
        {
          "output_type": "execute_result",
          "data": {
            "text/plain": [
              "PassengerId      0\n",
              "Survived         0\n",
              "Pclass           0\n",
              "Name             0\n",
              "Sex              0\n",
              "Age              0\n",
              "SibSp            0\n",
              "Parch            0\n",
              "Ticket           0\n",
              "Fare             0\n",
              "Cabin          529\n",
              "Embarked         2\n",
              "dtype: int64"
            ]
          },
          "metadata": {},
          "execution_count": 145
        }
      ]
    },
    {
      "cell_type": "markdown",
      "metadata": {
        "id": "9Up-GSsnt7wO"
      },
      "source": [
        "<details>\n",
        "\n",
        "---\n",
        "\n",
        "\n",
        "<summary>데이터에 null값이 있는지는 어떻게 확인할까요?</summary>\n",
        "<div markdown=\"1\">       \n",
        "\n",
        " - 데이터셋명.isna().sum() 메서드를 이용하면, null값의 개수를 알 수 있음.\n",
        "\n",
        " - null값이 있는 경우 처리 방법: null값을 전부 삭제 / 평균값 등으로 채워주기 / 예측하여 채워주기"
      ]
    },
    {
      "cell_type": "code",
      "metadata": {
        "id": "bMPiJoNRpp3i"
      },
      "source": [
        "#타겟 데이터 변수 할당\n",
        "target = train_file['Survived']\n",
        "\n",
        "#타겟 데이터 따로 저장\n",
        "\n",
        "#타겟데이터와 불필요데이터 삭제\n",
        "train_file.drop(labels=['Cabin'], axis=1, inplace=True)\n",
        "train_file.drop(labels=['Name'], axis=1, inplace=True)\n",
        "train_file.drop(labels=['PassengerId'], axis=1, inplace=True)\n",
        "train_file.drop(labels=['Ticket'], axis=1, inplace=True)\n",
        "train_file.drop(labels=['Embarked'], axis=1, inplace=True)\n"
      ],
      "execution_count": 146,
      "outputs": []
    },
    {
      "cell_type": "markdown",
      "metadata": {
        "id": "B3mqeODT8487"
      },
      "source": [
        "<details>\n",
        "\n",
        "---\n",
        "\n",
        "\n",
        "<summary>타겟 데이터를 따로 저장하는 방법은?</summary>\n",
        "<div markdown=\"1\">       \n",
        "\n",
        " - 변수 = 데이터명['라벨명'] 으로 타겟 데이터를 따로 저장 할 수 있음.\n",
        "\n",
        " - 어떤 데이터를 타겟 데이터로 해야할지 생각해야 함.\n",
        "\n",
        " - 불필요한 데이터를 삭제하는 방법: 데이터명.drop(labels=['라벨명'], axis=1, inplace=True) "
      ]
    },
    {
      "cell_type": "code",
      "metadata": {
        "id": "2M5F6vNnq_8R",
        "colab": {
          "base_uri": "https://localhost:8080/",
          "height": 417
        },
        "outputId": "41ca380a-3414-4760-b527-1f96c175cc92"
      },
      "source": [
        "#성별 데이터를 숫자로 변환\n",
        "train_file['Sex'] = train_file['Sex'].map({\"male\":1, \"female\":2})\n",
        "\n",
        "#입력 데이터가 제대로 준비되었는지 확인\n",
        "train_file"
      ],
      "execution_count": 147,
      "outputs": [
        {
          "output_type": "execute_result",
          "data": {
            "text/html": [
              "<div>\n",
              "<style scoped>\n",
              "    .dataframe tbody tr th:only-of-type {\n",
              "        vertical-align: middle;\n",
              "    }\n",
              "\n",
              "    .dataframe tbody tr th {\n",
              "        vertical-align: top;\n",
              "    }\n",
              "\n",
              "    .dataframe thead th {\n",
              "        text-align: right;\n",
              "    }\n",
              "</style>\n",
              "<table border=\"1\" class=\"dataframe\">\n",
              "  <thead>\n",
              "    <tr style=\"text-align: right;\">\n",
              "      <th></th>\n",
              "      <th>Survived</th>\n",
              "      <th>Pclass</th>\n",
              "      <th>Sex</th>\n",
              "      <th>Age</th>\n",
              "      <th>SibSp</th>\n",
              "      <th>Parch</th>\n",
              "      <th>Fare</th>\n",
              "    </tr>\n",
              "  </thead>\n",
              "  <tbody>\n",
              "    <tr>\n",
              "      <th>0</th>\n",
              "      <td>0</td>\n",
              "      <td>3</td>\n",
              "      <td>1</td>\n",
              "      <td>22.0</td>\n",
              "      <td>1</td>\n",
              "      <td>0</td>\n",
              "      <td>7.2500</td>\n",
              "    </tr>\n",
              "    <tr>\n",
              "      <th>1</th>\n",
              "      <td>1</td>\n",
              "      <td>1</td>\n",
              "      <td>2</td>\n",
              "      <td>38.0</td>\n",
              "      <td>1</td>\n",
              "      <td>0</td>\n",
              "      <td>71.2833</td>\n",
              "    </tr>\n",
              "    <tr>\n",
              "      <th>2</th>\n",
              "      <td>1</td>\n",
              "      <td>3</td>\n",
              "      <td>2</td>\n",
              "      <td>26.0</td>\n",
              "      <td>0</td>\n",
              "      <td>0</td>\n",
              "      <td>7.9250</td>\n",
              "    </tr>\n",
              "    <tr>\n",
              "      <th>3</th>\n",
              "      <td>1</td>\n",
              "      <td>1</td>\n",
              "      <td>2</td>\n",
              "      <td>35.0</td>\n",
              "      <td>1</td>\n",
              "      <td>0</td>\n",
              "      <td>53.1000</td>\n",
              "    </tr>\n",
              "    <tr>\n",
              "      <th>4</th>\n",
              "      <td>0</td>\n",
              "      <td>3</td>\n",
              "      <td>1</td>\n",
              "      <td>35.0</td>\n",
              "      <td>0</td>\n",
              "      <td>0</td>\n",
              "      <td>8.0500</td>\n",
              "    </tr>\n",
              "    <tr>\n",
              "      <th>...</th>\n",
              "      <td>...</td>\n",
              "      <td>...</td>\n",
              "      <td>...</td>\n",
              "      <td>...</td>\n",
              "      <td>...</td>\n",
              "      <td>...</td>\n",
              "      <td>...</td>\n",
              "    </tr>\n",
              "    <tr>\n",
              "      <th>709</th>\n",
              "      <td>0</td>\n",
              "      <td>3</td>\n",
              "      <td>2</td>\n",
              "      <td>39.0</td>\n",
              "      <td>0</td>\n",
              "      <td>5</td>\n",
              "      <td>29.1250</td>\n",
              "    </tr>\n",
              "    <tr>\n",
              "      <th>710</th>\n",
              "      <td>0</td>\n",
              "      <td>2</td>\n",
              "      <td>1</td>\n",
              "      <td>27.0</td>\n",
              "      <td>0</td>\n",
              "      <td>0</td>\n",
              "      <td>13.0000</td>\n",
              "    </tr>\n",
              "    <tr>\n",
              "      <th>711</th>\n",
              "      <td>1</td>\n",
              "      <td>1</td>\n",
              "      <td>2</td>\n",
              "      <td>19.0</td>\n",
              "      <td>0</td>\n",
              "      <td>0</td>\n",
              "      <td>30.0000</td>\n",
              "    </tr>\n",
              "    <tr>\n",
              "      <th>712</th>\n",
              "      <td>1</td>\n",
              "      <td>1</td>\n",
              "      <td>1</td>\n",
              "      <td>26.0</td>\n",
              "      <td>0</td>\n",
              "      <td>0</td>\n",
              "      <td>30.0000</td>\n",
              "    </tr>\n",
              "    <tr>\n",
              "      <th>713</th>\n",
              "      <td>0</td>\n",
              "      <td>3</td>\n",
              "      <td>1</td>\n",
              "      <td>32.0</td>\n",
              "      <td>0</td>\n",
              "      <td>0</td>\n",
              "      <td>7.7500</td>\n",
              "    </tr>\n",
              "  </tbody>\n",
              "</table>\n",
              "<p>714 rows × 7 columns</p>\n",
              "</div>"
            ],
            "text/plain": [
              "     Survived  Pclass  Sex   Age  SibSp  Parch     Fare\n",
              "0           0       3    1  22.0      1      0   7.2500\n",
              "1           1       1    2  38.0      1      0  71.2833\n",
              "2           1       3    2  26.0      0      0   7.9250\n",
              "3           1       1    2  35.0      1      0  53.1000\n",
              "4           0       3    1  35.0      0      0   8.0500\n",
              "..        ...     ...  ...   ...    ...    ...      ...\n",
              "709         0       3    2  39.0      0      5  29.1250\n",
              "710         0       2    1  27.0      0      0  13.0000\n",
              "711         1       1    2  19.0      0      0  30.0000\n",
              "712         1       1    1  26.0      0      0  30.0000\n",
              "713         0       3    1  32.0      0      0   7.7500\n",
              "\n",
              "[714 rows x 7 columns]"
            ]
          },
          "metadata": {},
          "execution_count": 147
        }
      ]
    },
    {
      "cell_type": "code",
      "metadata": {
        "id": "EN6Ai0HTLlPO"
      },
      "source": [
        "x_train=train_file.drop(labels=['Survived'], axis=1)"
      ],
      "execution_count": 148,
      "outputs": []
    },
    {
      "cell_type": "code",
      "metadata": {
        "colab": {
          "base_uri": "https://localhost:8080/",
          "height": 417
        },
        "id": "2JoC37tDNBTa",
        "outputId": "3710ed77-1a58-4e72-fbef-42da77992940"
      },
      "source": [
        "x_train"
      ],
      "execution_count": 149,
      "outputs": [
        {
          "output_type": "execute_result",
          "data": {
            "text/html": [
              "<div>\n",
              "<style scoped>\n",
              "    .dataframe tbody tr th:only-of-type {\n",
              "        vertical-align: middle;\n",
              "    }\n",
              "\n",
              "    .dataframe tbody tr th {\n",
              "        vertical-align: top;\n",
              "    }\n",
              "\n",
              "    .dataframe thead th {\n",
              "        text-align: right;\n",
              "    }\n",
              "</style>\n",
              "<table border=\"1\" class=\"dataframe\">\n",
              "  <thead>\n",
              "    <tr style=\"text-align: right;\">\n",
              "      <th></th>\n",
              "      <th>Pclass</th>\n",
              "      <th>Sex</th>\n",
              "      <th>Age</th>\n",
              "      <th>SibSp</th>\n",
              "      <th>Parch</th>\n",
              "      <th>Fare</th>\n",
              "    </tr>\n",
              "  </thead>\n",
              "  <tbody>\n",
              "    <tr>\n",
              "      <th>0</th>\n",
              "      <td>3</td>\n",
              "      <td>1</td>\n",
              "      <td>22.0</td>\n",
              "      <td>1</td>\n",
              "      <td>0</td>\n",
              "      <td>7.2500</td>\n",
              "    </tr>\n",
              "    <tr>\n",
              "      <th>1</th>\n",
              "      <td>1</td>\n",
              "      <td>2</td>\n",
              "      <td>38.0</td>\n",
              "      <td>1</td>\n",
              "      <td>0</td>\n",
              "      <td>71.2833</td>\n",
              "    </tr>\n",
              "    <tr>\n",
              "      <th>2</th>\n",
              "      <td>3</td>\n",
              "      <td>2</td>\n",
              "      <td>26.0</td>\n",
              "      <td>0</td>\n",
              "      <td>0</td>\n",
              "      <td>7.9250</td>\n",
              "    </tr>\n",
              "    <tr>\n",
              "      <th>3</th>\n",
              "      <td>1</td>\n",
              "      <td>2</td>\n",
              "      <td>35.0</td>\n",
              "      <td>1</td>\n",
              "      <td>0</td>\n",
              "      <td>53.1000</td>\n",
              "    </tr>\n",
              "    <tr>\n",
              "      <th>4</th>\n",
              "      <td>3</td>\n",
              "      <td>1</td>\n",
              "      <td>35.0</td>\n",
              "      <td>0</td>\n",
              "      <td>0</td>\n",
              "      <td>8.0500</td>\n",
              "    </tr>\n",
              "    <tr>\n",
              "      <th>...</th>\n",
              "      <td>...</td>\n",
              "      <td>...</td>\n",
              "      <td>...</td>\n",
              "      <td>...</td>\n",
              "      <td>...</td>\n",
              "      <td>...</td>\n",
              "    </tr>\n",
              "    <tr>\n",
              "      <th>709</th>\n",
              "      <td>3</td>\n",
              "      <td>2</td>\n",
              "      <td>39.0</td>\n",
              "      <td>0</td>\n",
              "      <td>5</td>\n",
              "      <td>29.1250</td>\n",
              "    </tr>\n",
              "    <tr>\n",
              "      <th>710</th>\n",
              "      <td>2</td>\n",
              "      <td>1</td>\n",
              "      <td>27.0</td>\n",
              "      <td>0</td>\n",
              "      <td>0</td>\n",
              "      <td>13.0000</td>\n",
              "    </tr>\n",
              "    <tr>\n",
              "      <th>711</th>\n",
              "      <td>1</td>\n",
              "      <td>2</td>\n",
              "      <td>19.0</td>\n",
              "      <td>0</td>\n",
              "      <td>0</td>\n",
              "      <td>30.0000</td>\n",
              "    </tr>\n",
              "    <tr>\n",
              "      <th>712</th>\n",
              "      <td>1</td>\n",
              "      <td>1</td>\n",
              "      <td>26.0</td>\n",
              "      <td>0</td>\n",
              "      <td>0</td>\n",
              "      <td>30.0000</td>\n",
              "    </tr>\n",
              "    <tr>\n",
              "      <th>713</th>\n",
              "      <td>3</td>\n",
              "      <td>1</td>\n",
              "      <td>32.0</td>\n",
              "      <td>0</td>\n",
              "      <td>0</td>\n",
              "      <td>7.7500</td>\n",
              "    </tr>\n",
              "  </tbody>\n",
              "</table>\n",
              "<p>714 rows × 6 columns</p>\n",
              "</div>"
            ],
            "text/plain": [
              "     Pclass  Sex   Age  SibSp  Parch     Fare\n",
              "0         3    1  22.0      1      0   7.2500\n",
              "1         1    2  38.0      1      0  71.2833\n",
              "2         3    2  26.0      0      0   7.9250\n",
              "3         1    2  35.0      1      0  53.1000\n",
              "4         3    1  35.0      0      0   8.0500\n",
              "..      ...  ...   ...    ...    ...      ...\n",
              "709       3    2  39.0      0      5  29.1250\n",
              "710       2    1  27.0      0      0  13.0000\n",
              "711       1    2  19.0      0      0  30.0000\n",
              "712       1    1  26.0      0      0  30.0000\n",
              "713       3    1  32.0      0      0   7.7500\n",
              "\n",
              "[714 rows x 6 columns]"
            ]
          },
          "metadata": {},
          "execution_count": 149
        }
      ]
    },
    {
      "cell_type": "markdown",
      "metadata": {
        "id": "jfw71Q6q9g6d"
      },
      "source": [
        "<details>\n",
        "\n",
        "---\n",
        "\n",
        "\n",
        "<summary>텍스트 데이터를 숫자 데이터로 변환하는 방법?</summary>\n",
        "<div markdown=\"1\">       \n",
        "\n",
        " - int type으로 변경하는 코드는 다양함.\n",
        "\n",
        " - 성별 데이터가 텍스트 데이터로 되어 있으므로, 이를 숫자로 변환시키는 작업 필요\n",
        "\n",
        " - 소학회장은 데이터명['라벨명']=데이터명['라벨명'].map({\"변경시킬 텍스트1\":숫자1, \"변경시킬 텍스트2\":숫자2}) 메서드를 사용했어요~!"
      ]
    },
    {
      "cell_type": "code",
      "metadata": {
        "id": "hyetzV3urkk3",
        "colab": {
          "base_uri": "https://localhost:8080/",
          "height": 203
        },
        "outputId": "fbefa2fa-13b3-47ad-be1f-ae9bbd3c4912"
      },
      "source": [
        "#로지스틱 회귀 모델 생성 후 모델 훈련\n",
        "from sklearn.linear_model import LogisticRegression\n",
        "lr = LogisticRegression()\n",
        "lr.fit(x_train, target) ## x\n",
        "\n",
        "#예측 결과 출력\n",
        "x_test = pd.read_csv('test.csv')\n",
        "x_test.head()\n"
      ],
      "execution_count": 150,
      "outputs": [
        {
          "output_type": "execute_result",
          "data": {
            "text/html": [
              "<div>\n",
              "<style scoped>\n",
              "    .dataframe tbody tr th:only-of-type {\n",
              "        vertical-align: middle;\n",
              "    }\n",
              "\n",
              "    .dataframe tbody tr th {\n",
              "        vertical-align: top;\n",
              "    }\n",
              "\n",
              "    .dataframe thead th {\n",
              "        text-align: right;\n",
              "    }\n",
              "</style>\n",
              "<table border=\"1\" class=\"dataframe\">\n",
              "  <thead>\n",
              "    <tr style=\"text-align: right;\">\n",
              "      <th></th>\n",
              "      <th>PassengerId</th>\n",
              "      <th>Pclass</th>\n",
              "      <th>Name</th>\n",
              "      <th>Sex</th>\n",
              "      <th>Age</th>\n",
              "      <th>SibSp</th>\n",
              "      <th>Parch</th>\n",
              "      <th>Ticket</th>\n",
              "      <th>Fare</th>\n",
              "      <th>Cabin</th>\n",
              "      <th>Embarked</th>\n",
              "    </tr>\n",
              "  </thead>\n",
              "  <tbody>\n",
              "    <tr>\n",
              "      <th>0</th>\n",
              "      <td>892</td>\n",
              "      <td>3</td>\n",
              "      <td>Kelly, Mr. James</td>\n",
              "      <td>male</td>\n",
              "      <td>34.5</td>\n",
              "      <td>0</td>\n",
              "      <td>0</td>\n",
              "      <td>330911</td>\n",
              "      <td>7.8292</td>\n",
              "      <td>NaN</td>\n",
              "      <td>Q</td>\n",
              "    </tr>\n",
              "    <tr>\n",
              "      <th>1</th>\n",
              "      <td>893</td>\n",
              "      <td>3</td>\n",
              "      <td>Wilkes, Mrs. James (Ellen Needs)</td>\n",
              "      <td>female</td>\n",
              "      <td>47.0</td>\n",
              "      <td>1</td>\n",
              "      <td>0</td>\n",
              "      <td>363272</td>\n",
              "      <td>7.0000</td>\n",
              "      <td>NaN</td>\n",
              "      <td>S</td>\n",
              "    </tr>\n",
              "    <tr>\n",
              "      <th>2</th>\n",
              "      <td>894</td>\n",
              "      <td>2</td>\n",
              "      <td>Myles, Mr. Thomas Francis</td>\n",
              "      <td>male</td>\n",
              "      <td>62.0</td>\n",
              "      <td>0</td>\n",
              "      <td>0</td>\n",
              "      <td>240276</td>\n",
              "      <td>9.6875</td>\n",
              "      <td>NaN</td>\n",
              "      <td>Q</td>\n",
              "    </tr>\n",
              "    <tr>\n",
              "      <th>3</th>\n",
              "      <td>895</td>\n",
              "      <td>3</td>\n",
              "      <td>Wirz, Mr. Albert</td>\n",
              "      <td>male</td>\n",
              "      <td>27.0</td>\n",
              "      <td>0</td>\n",
              "      <td>0</td>\n",
              "      <td>315154</td>\n",
              "      <td>8.6625</td>\n",
              "      <td>NaN</td>\n",
              "      <td>S</td>\n",
              "    </tr>\n",
              "    <tr>\n",
              "      <th>4</th>\n",
              "      <td>896</td>\n",
              "      <td>3</td>\n",
              "      <td>Hirvonen, Mrs. Alexander (Helga E Lindqvist)</td>\n",
              "      <td>female</td>\n",
              "      <td>22.0</td>\n",
              "      <td>1</td>\n",
              "      <td>1</td>\n",
              "      <td>3101298</td>\n",
              "      <td>12.2875</td>\n",
              "      <td>NaN</td>\n",
              "      <td>S</td>\n",
              "    </tr>\n",
              "  </tbody>\n",
              "</table>\n",
              "</div>"
            ],
            "text/plain": [
              "   PassengerId  Pclass  ... Cabin Embarked\n",
              "0          892       3  ...   NaN        Q\n",
              "1          893       3  ...   NaN        S\n",
              "2          894       2  ...   NaN        Q\n",
              "3          895       3  ...   NaN        S\n",
              "4          896       3  ...   NaN        S\n",
              "\n",
              "[5 rows x 11 columns]"
            ]
          },
          "metadata": {},
          "execution_count": 150
        }
      ]
    },
    {
      "cell_type": "code",
      "metadata": {
        "id": "ZXJeoKDTIJnh"
      },
      "source": [
        "x_test.drop(labels=['Cabin'], axis=1, inplace=True)\n",
        "x_test.drop(labels=['Name'], axis=1, inplace=True)\n",
        "x_test.drop(labels=['PassengerId'], axis=1, inplace=True)\n",
        "x_test.drop(labels=['Ticket'], axis=1, inplace=True)\n",
        "x_test.drop(labels=['Embarked'], axis=1, inplace=True)"
      ],
      "execution_count": 151,
      "outputs": []
    },
    {
      "cell_type": "code",
      "metadata": {
        "id": "-7Juqk7ZIs5R"
      },
      "source": [
        "x_test['Sex'] = x_test['Sex'].map({\"male\":1, \"female\":2})"
      ],
      "execution_count": 152,
      "outputs": []
    },
    {
      "cell_type": "code",
      "metadata": {
        "colab": {
          "base_uri": "https://localhost:8080/"
        },
        "id": "tHjE88GdJJ6y",
        "outputId": "51b2a751-76fe-4f86-f1b8-6f3c11b1f59d"
      },
      "source": [
        "x_test.isna().sum()"
      ],
      "execution_count": 153,
      "outputs": [
        {
          "output_type": "execute_result",
          "data": {
            "text/plain": [
              "Pclass    0\n",
              "Sex       0\n",
              "Age       0\n",
              "SibSp     0\n",
              "Parch     0\n",
              "Fare      1\n",
              "dtype: int64"
            ]
          },
          "metadata": {},
          "execution_count": 153
        }
      ]
    },
    {
      "cell_type": "code",
      "metadata": {
        "id": "y4Fz7jXKJXO5"
      },
      "source": [
        "\n",
        "x_test=x_test.drop(x_test[x_test['Fare'].isna()].index)"
      ],
      "execution_count": 154,
      "outputs": []
    },
    {
      "cell_type": "code",
      "metadata": {
        "colab": {
          "base_uri": "https://localhost:8080/",
          "height": 417
        },
        "id": "-QuNsxH0J7n5",
        "outputId": "fff3a427-f350-411f-8dc9-b8c8a4e83462"
      },
      "source": [
        "x_test"
      ],
      "execution_count": 155,
      "outputs": [
        {
          "output_type": "execute_result",
          "data": {
            "text/html": [
              "<div>\n",
              "<style scoped>\n",
              "    .dataframe tbody tr th:only-of-type {\n",
              "        vertical-align: middle;\n",
              "    }\n",
              "\n",
              "    .dataframe tbody tr th {\n",
              "        vertical-align: top;\n",
              "    }\n",
              "\n",
              "    .dataframe thead th {\n",
              "        text-align: right;\n",
              "    }\n",
              "</style>\n",
              "<table border=\"1\" class=\"dataframe\">\n",
              "  <thead>\n",
              "    <tr style=\"text-align: right;\">\n",
              "      <th></th>\n",
              "      <th>Pclass</th>\n",
              "      <th>Sex</th>\n",
              "      <th>Age</th>\n",
              "      <th>SibSp</th>\n",
              "      <th>Parch</th>\n",
              "      <th>Fare</th>\n",
              "    </tr>\n",
              "  </thead>\n",
              "  <tbody>\n",
              "    <tr>\n",
              "      <th>0</th>\n",
              "      <td>3</td>\n",
              "      <td>1</td>\n",
              "      <td>34.5</td>\n",
              "      <td>0</td>\n",
              "      <td>0</td>\n",
              "      <td>7.8292</td>\n",
              "    </tr>\n",
              "    <tr>\n",
              "      <th>1</th>\n",
              "      <td>3</td>\n",
              "      <td>2</td>\n",
              "      <td>47.0</td>\n",
              "      <td>1</td>\n",
              "      <td>0</td>\n",
              "      <td>7.0000</td>\n",
              "    </tr>\n",
              "    <tr>\n",
              "      <th>2</th>\n",
              "      <td>2</td>\n",
              "      <td>1</td>\n",
              "      <td>62.0</td>\n",
              "      <td>0</td>\n",
              "      <td>0</td>\n",
              "      <td>9.6875</td>\n",
              "    </tr>\n",
              "    <tr>\n",
              "      <th>3</th>\n",
              "      <td>3</td>\n",
              "      <td>1</td>\n",
              "      <td>27.0</td>\n",
              "      <td>0</td>\n",
              "      <td>0</td>\n",
              "      <td>8.6625</td>\n",
              "    </tr>\n",
              "    <tr>\n",
              "      <th>4</th>\n",
              "      <td>3</td>\n",
              "      <td>2</td>\n",
              "      <td>22.0</td>\n",
              "      <td>1</td>\n",
              "      <td>1</td>\n",
              "      <td>12.2875</td>\n",
              "    </tr>\n",
              "    <tr>\n",
              "      <th>...</th>\n",
              "      <td>...</td>\n",
              "      <td>...</td>\n",
              "      <td>...</td>\n",
              "      <td>...</td>\n",
              "      <td>...</td>\n",
              "      <td>...</td>\n",
              "    </tr>\n",
              "    <tr>\n",
              "      <th>327</th>\n",
              "      <td>3</td>\n",
              "      <td>2</td>\n",
              "      <td>3.0</td>\n",
              "      <td>1</td>\n",
              "      <td>1</td>\n",
              "      <td>13.7750</td>\n",
              "    </tr>\n",
              "    <tr>\n",
              "      <th>328</th>\n",
              "      <td>1</td>\n",
              "      <td>2</td>\n",
              "      <td>37.0</td>\n",
              "      <td>1</td>\n",
              "      <td>0</td>\n",
              "      <td>90.0000</td>\n",
              "    </tr>\n",
              "    <tr>\n",
              "      <th>329</th>\n",
              "      <td>3</td>\n",
              "      <td>2</td>\n",
              "      <td>28.0</td>\n",
              "      <td>0</td>\n",
              "      <td>0</td>\n",
              "      <td>7.7750</td>\n",
              "    </tr>\n",
              "    <tr>\n",
              "      <th>330</th>\n",
              "      <td>1</td>\n",
              "      <td>2</td>\n",
              "      <td>39.0</td>\n",
              "      <td>0</td>\n",
              "      <td>0</td>\n",
              "      <td>108.9000</td>\n",
              "    </tr>\n",
              "    <tr>\n",
              "      <th>331</th>\n",
              "      <td>3</td>\n",
              "      <td>1</td>\n",
              "      <td>38.5</td>\n",
              "      <td>0</td>\n",
              "      <td>0</td>\n",
              "      <td>7.2500</td>\n",
              "    </tr>\n",
              "  </tbody>\n",
              "</table>\n",
              "<p>331 rows × 6 columns</p>\n",
              "</div>"
            ],
            "text/plain": [
              "     Pclass  Sex   Age  SibSp  Parch      Fare\n",
              "0         3    1  34.5      0      0    7.8292\n",
              "1         3    2  47.0      1      0    7.0000\n",
              "2         2    1  62.0      0      0    9.6875\n",
              "3         3    1  27.0      0      0    8.6625\n",
              "4         3    2  22.0      1      1   12.2875\n",
              "..      ...  ...   ...    ...    ...       ...\n",
              "327       3    2   3.0      1      1   13.7750\n",
              "328       1    2  37.0      1      0   90.0000\n",
              "329       3    2  28.0      0      0    7.7750\n",
              "330       1    2  39.0      0      0  108.9000\n",
              "331       3    1  38.5      0      0    7.2500\n",
              "\n",
              "[331 rows x 6 columns]"
            ]
          },
          "metadata": {},
          "execution_count": 155
        }
      ]
    },
    {
      "cell_type": "code",
      "metadata": {
        "colab": {
          "base_uri": "https://localhost:8080/"
        },
        "id": "LbKJhbTIIoi7",
        "outputId": "ff564121-b8ac-4db6-d16b-0fbd1708196a"
      },
      "source": [
        "lr.predict(x_test)"
      ],
      "execution_count": 156,
      "outputs": [
        {
          "output_type": "execute_result",
          "data": {
            "text/plain": [
              "array([0, 0, 0, 0, 1, 0, 1, 0, 1, 0, 0, 1, 0, 1, 1, 0, 0, 1, 0, 0, 0, 1,\n",
              "       1, 0, 1, 0, 0, 0, 0, 0, 0, 0, 1, 0, 0, 0, 1, 1, 0, 0, 1, 0, 1, 0,\n",
              "       1, 1, 0, 0, 0, 1, 0, 0, 0, 1, 1, 1, 0, 1, 1, 1, 0, 1, 1, 1, 1, 1,\n",
              "       0, 1, 0, 0, 0, 1, 1, 0, 1, 1, 1, 0, 1, 0, 1, 0, 1, 0, 0, 1, 0, 0,\n",
              "       0, 0, 1, 1, 1, 0, 1, 1, 1, 1, 1, 0, 1, 0, 0, 0, 0, 0, 0, 0, 0, 0,\n",
              "       1, 0, 0, 1, 0, 0, 0, 0, 0, 0, 1, 0, 0, 0, 1, 1, 0, 1, 0, 1, 0, 1,\n",
              "       0, 0, 1, 0, 0, 0, 1, 1, 0, 1, 1, 0, 0, 1, 1, 0, 1, 0, 0, 0, 0, 0,\n",
              "       0, 0, 1, 1, 0, 0, 0, 1, 0, 1, 0, 1, 0, 0, 0, 0, 0, 0, 0, 1, 1, 0,\n",
              "       1, 0, 1, 0, 0, 0, 0, 1, 0, 0, 0, 0, 0, 1, 1, 1, 1, 0, 0, 1, 0, 1,\n",
              "       1, 0, 1, 0, 0, 0, 1, 0, 0, 0, 1, 1, 0, 0, 0, 1, 1, 0, 0, 0, 0, 1,\n",
              "       0, 1, 1, 0, 1, 1, 0, 0, 0, 1, 1, 0, 0, 0, 0, 1, 1, 0, 0, 0, 0, 0,\n",
              "       1, 1, 1, 0, 0, 0, 0, 0, 0, 0, 1, 1, 0, 1, 0, 0, 0, 1, 0, 1, 0, 1,\n",
              "       0, 0, 0, 0, 0, 1, 1, 0, 0, 0, 1, 1, 0, 0, 0, 1, 0, 1, 0, 0, 1, 1,\n",
              "       0, 1, 1, 1, 0, 0, 1, 0, 0, 1, 1, 0, 0, 0, 0, 0, 1, 1, 0, 0, 0, 0,\n",
              "       1, 1, 0, 0, 0, 1, 0, 1, 0, 0, 1, 0, 1, 1, 0, 0, 0, 0, 1, 1, 1, 1,\n",
              "       0])"
            ]
          },
          "metadata": {},
          "execution_count": 156
        }
      ]
    },
    {
      "cell_type": "markdown",
      "metadata": {
        "id": "Pi7FvAyr-nSA"
      },
      "source": [
        "<details>\n",
        "\n",
        "---\n",
        "\n",
        "\n",
        "<summary>로지스틱 회귀 모델 생성 방법!</summary>\n",
        "<div markdown=\"1\">       \n",
        "\n",
        " - from sklearn.linear_model import LogisticRegression 으로 로지스틱 회귀 모델을 불러와주세요!\n",
        "\n",
        " - fit(x, y) 로 데이터를 학습시켜요."
      ]
    },
    {
      "cell_type": "code",
      "metadata": {
        "id": "IAvR7So9sL6a",
        "colab": {
          "base_uri": "https://localhost:8080/"
        },
        "outputId": "6bbcb93e-6208-4b2b-8650-41595fef5c31"
      },
      "source": [
        "#가상의 승객이 탑승하였을 때 조건을 가정하여 생존확률을 예측\n",
        "live = lr.predict([[2, 2, 24.0, 0, 0, 30.0000]])\n",
        "if live == 1:\n",
        "  print('생존')\n",
        "else:\n",
        "  print('사망')"
      ],
      "execution_count": 157,
      "outputs": [
        {
          "output_type": "stream",
          "name": "stdout",
          "text": [
            "생존\n"
          ]
        }
      ]
    }
  ]
}